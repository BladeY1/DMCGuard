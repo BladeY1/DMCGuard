{
 "cells": [
  {
   "cell_type": "code",
   "execution_count": null,
   "metadata": {},
   "outputs": [],
   "source": [
    "import requests\n",
    "import hashlib\n",
    "\n",
    "ip_local=\"https://127.0.0.1\"\n",
    "#ip_local=\"https://192.168.1.185\"\n",
    "ip_remote=\"https://101.43.239.148\"\n",
    "ip=ip_remote\n",
    "#在本地跑服务器的话，ip=ip_local\n",
    "self_sign_rootca = 'cert/server/rootCA.pem'\n",
    "log_payload = {\n",
    "    \"name\": \"root\",\n",
    "    \"password\": hashlib.md5(b'root').hexdigest(),\n",
    "}\n",
    "reg_payload = {\n",
    "    \"name\": \"root\",\n",
    "    \"password\": \"root\",\n",
    "}\n",
    "#hello world\n",
    "response = requests.get(ip,verify=self_sign_rootca)\n",
    "print(response.text)"
   ]
  },
  {
   "cell_type": "code",
   "execution_count": null,
   "metadata": {},
   "outputs": [],
   "source": [
    "#register\n",
    "response = requests.post(ip+'/api/register',data=reg_payload,verify=self_sign_rootca)\n",
    "print(response.text)"
   ]
  },
  {
   "cell_type": "code",
   "execution_count": null,
   "metadata": {},
   "outputs": [],
   "source": [
    "#login session\n",
    "session = requests.Session()\n",
    "response =session.post(ip+'/api/login',data=log_payload,verify=self_sign_rootca)\n",
    "print(log_payload)\n",
    "print(response.text)"
   ]
  },
  {
   "cell_type": "code",
   "execution_count": null,
   "metadata": {},
   "outputs": [],
   "source": [
    "#bind device\n",
    "#登录后还要绑定设备才能进行operate操作，否则/api/operate会返回{\n",
    "#   \"code\": 400, \n",
    "#   \"msg\": \"Please bind device first\"\n",
    "# }\n",
    "\n",
    "response =session.post(ip+'/api/bindDevice',data={\"pin\":\"123456\"},verify=self_sign_rootca)\n",
    "print(response.text)"
   ]
  },
  {
   "cell_type": "code",
   "execution_count": null,
   "metadata": {},
   "outputs": [],
   "source": [
    "#operate(payload):\n",
    "operate_payload = {\n",
    "    \"R\": \"1\",\n",
    "    \"Param\": \"0\",\n",
    "}\n",
    "# 开灯  1 0\n",
    "# 关灯  1 1\n",
    "# 调亮  3 0\n",
    "# 调暗  3 1   \n",
    "response = session.post(ip+'/api/operate', data=operate_payload,verify=self_sign_rootca)\n",
    "print(response.text)"
   ]
  },
  {
   "cell_type": "code",
   "execution_count": null,
   "metadata": {},
   "outputs": [],
   "source": [
    "#getstatus(payload):\n",
    "response = session.post(ip+'/api/getstatus',verify=self_sign_rootca)\n",
    "print(response.text)"
   ]
  },
  {
   "cell_type": "code",
   "execution_count": null,
   "metadata": {},
   "outputs": [],
   "source": [
    "#channel(payload):\n",
    "channel_get = {\n",
    "    'operate':'get',\n",
    "    }\n",
    "channel_set = {\n",
    "    'operate':'set',\n",
    "    'target':'speaker',\n",
    "    'param':'on',\n",
    "    }\n",
    "response = session.post(ip+'/api/channel',data=channel_get,verify=self_sign_rootca)\n",
    "print(response.text)"
   ]
  },
  {
   "cell_type": "code",
   "execution_count": null,
   "metadata": {},
   "outputs": [],
   "source": [
    "#getMessages:\n",
    "#返回用户所有未处理已处理的申请信息  像是这样  apply_id是供服务器间同步的\n",
    "# {\n",
    "#   \"code\": 200, \n",
    "#   \"msg\": [\n",
    "#     {\n",
    "#       \"R\": \"1\", \n",
    "#       \"apply_id\": 1, \n",
    "#       \"channel\": \"zigbee\", \n",
    "#       \"id\": 1, \n",
    "#       \"name\": \"test\", \n",
    "#       \"status\": \"toprocess\"\n",
    "#     }\n",
    "#   ]\n",
    "# }\n",
    "\n",
    "response = session.post(ip+'/api/getMessages',verify=self_sign_rootca)\n",
    "print(response.text)"
   ]
  },
  {
   "cell_type": "code",
   "execution_count": null,
   "metadata": {},
   "outputs": [],
   "source": [
    "#模拟zigbee服务器向manu发送token请求:\n",
    "#现在要添加token需要调用这个   调用后用上面的getmessage就能看到申请存在数据库里   需要用户主动调用processMessages处理\n",
    "\n",
    "#测试的话就给自己(主人用户)申请token\n",
    "token_apply = {\n",
    "    \"name\": \"test\",\n",
    "    \"R\": \"0\",\n",
    "}\n",
    "response = session.post(ip+'/api/applyToken',verify=self_sign_rootca,data=token_apply)\n",
    "print(response.text)"
   ]
  },
  {
   "cell_type": "code",
   "execution_count": null,
   "metadata": {},
   "outputs": [],
   "source": [
    "#processMessages:\n",
    "process_payload={\n",
    "    \"apply_id\":\"2\",\n",
    "    \"operate\":\"accept\",#或者reject\n",
    "    }\n",
    "response = session.post(ip+'/api/processMessages', data=process_payload,verify=self_sign_rootca)\n",
    "print(response.text)"
   ]
  },
  {
   "cell_type": "code",
   "execution_count": null,
   "metadata": {},
   "outputs": [],
   "source": [
    "#delToken:\n",
    "#主人用户主动删除权限\n",
    "delToken_payload={\n",
    "    \"name\":\"test\",\n",
    "    \"R\": \"1\", \n",
    "    }\n",
    "response = session.post(ip+'/api/delToken', data=delToken_payload,verify=self_sign_rootca)\n",
    "print(response.text)"
   ]
  },
  {
   "cell_type": "code",
   "execution_count": null,
   "metadata": {},
   "outputs": [],
   "source": [
    "#getDeviceUser\n",
    "response=session.post(ip+'/api/getDeviceUser',verify=self_sign_rootca)\n",
    "print(response.text)"
   ]
  },
  {
   "cell_type": "code",
   "execution_count": null,
   "metadata": {},
   "outputs": [],
   "source": [
    "#getLogs:\n",
    "#返回服务器日志\n",
    "\n",
    "response = session.post(ip+'/api/getLogs',verify=self_sign_rootca)\n",
    "print(response.text)"
   ]
  },
  {
   "cell_type": "code",
   "execution_count": null,
   "metadata": {},
   "outputs": [],
   "source": [
    "#调用后清空数据库\n",
    "response =requests.post(ip+'/dbreset',verify=self_sign_rootca)\n",
    "print(response.text)"
   ]
  }
 ],
 "metadata": {
  "interpreter": {
   "hash": "8c3d4d9970fc5c09c50d9318a9c7fbf4d0159e4b28833276f5678ee22bded273"
  },
  "kernelspec": {
   "display_name": "Python 3.10.4 64-bit",
   "language": "python",
   "name": "python3"
  },
  "language_info": {
   "codemirror_mode": {
    "name": "ipython",
    "version": 3
   },
   "file_extension": ".py",
   "mimetype": "text/x-python",
   "name": "python",
   "nbconvert_exporter": "python",
   "pygments_lexer": "ipython3",
   "version": "3.9.4"
  },
  "orig_nbformat": 4
 },
 "nbformat": 4,
 "nbformat_minor": 2
}
